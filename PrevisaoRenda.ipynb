{
  "nbformat": 4,
  "nbformat_minor": 0,
  "metadata": {
    "colab": {
      "name": "PrevisaoRenda.ipynb",
      "provenance": [],
      "authorship_tag": "ABX9TyMtoAbJQ4RmH6xZ/vUfPiRY",
      "include_colab_link": true
    },
    "kernelspec": {
      "name": "python3",
      "display_name": "Python 3"
    },
    "language_info": {
      "name": "python"
    }
  },
  "cells": [
    {
      "cell_type": "markdown",
      "metadata": {
        "id": "view-in-github",
        "colab_type": "text"
      },
      "source": [
        "<a href=\"https://colab.research.google.com/github/ladeiraA/Lab_BigData/blob/main/PrevisaoRenda.ipynb\" target=\"_parent\"><img src=\"https://colab.research.google.com/assets/colab-badge.svg\" alt=\"Open In Colab\"/></a>"
      ]
    },
    {
      "cell_type": "code",
      "execution_count": null,
      "metadata": {
        "id": "MKkq3tn-02yH"
      },
      "outputs": [],
      "source": [
        "import pandas as pd\n",
        "from sklearn.preprocessing import LabelEncoder\n",
        "from sklearn.preprocessing import StandardScaler\n",
        "from sklearn.model_selection import train_test_split\n",
        "from sklearn.naive_bayes import GaussianNB\n",
        "from sklearn.ensemble import RandomForestClassifier\n",
        "from sklearn.metrics import confusion_matrix, accuracy_score\n",
        "\n",
        "url = 'http://archive.ics.uci.edu/ml/machine-learning-databases/adult/adult.data'\n",
        "base = pd.read_csv(url)\n",
        "base"
      ]
    },
    {
      "cell_type": "code",
      "source": [
        "previsores = base.iloc[:,:14].values\n",
        "previsores"
      ],
      "metadata": {
        "colab": {
          "base_uri": "https://localhost:8080/"
        },
        "id": "Cb-UD_V37lyS",
        "outputId": "c6e6feb0-c722-412a-d812-fd6ad20768ae"
      },
      "execution_count": null,
      "outputs": [
        {
          "output_type": "execute_result",
          "data": {
            "text/plain": [
              "array([[50, ' Self-emp-not-inc', 83311, ..., 0, 13, ' United-States'],\n",
              "       [38, ' Private', 215646, ..., 0, 40, ' United-States'],\n",
              "       [53, ' Private', 234721, ..., 0, 40, ' United-States'],\n",
              "       ...,\n",
              "       [58, ' Private', 151910, ..., 0, 40, ' United-States'],\n",
              "       [22, ' Private', 201490, ..., 0, 20, ' United-States'],\n",
              "       [52, ' Self-emp-inc', 287927, ..., 0, 40, ' United-States']],\n",
              "      dtype=object)"
            ]
          },
          "metadata": {},
          "execution_count": 5
        }
      ]
    },
    {
      "cell_type": "code",
      "source": [
        "classe = base.iloc[:,14].values\n",
        "classe"
      ],
      "metadata": {
        "colab": {
          "base_uri": "https://localhost:8080/"
        },
        "id": "nYzx22wp9awH",
        "outputId": "69e25876-887b-4796-eda0-1ad58127c67b"
      },
      "execution_count": null,
      "outputs": [
        {
          "output_type": "execute_result",
          "data": {
            "text/plain": [
              "array([' <=50K', ' <=50K', ' <=50K', ..., ' <=50K', ' <=50K', ' >50K'],\n",
              "      dtype=object)"
            ]
          },
          "metadata": {},
          "execution_count": 6
        }
      ]
    },
    {
      "cell_type": "code",
      "source": [
        "label_previsores = LabelEncoder()"
      ],
      "metadata": {
        "id": "zYIdkauw9kFC"
      },
      "execution_count": null,
      "outputs": []
    },
    {
      "cell_type": "code",
      "source": [
        "previsores[:,1] = label_previsores.fit_transform(previsores[:,1])\n",
        "previsores[:,3] = label_previsores.fit_transform(previsores[:,3])\n",
        "previsores[:,5] = label_previsores.fit_transform(previsores[:,5])\n",
        "previsores[:,6] = label_previsores.fit_transform(previsores[:,6])\n",
        "previsores[:,7] = label_previsores.fit_transform(previsores[:,7])\n",
        "previsores[:,8] = label_previsores.fit_transform(previsores[:,8])\n",
        "previsores[:,9] = label_previsores.fit_transform(previsores[:,9])\n",
        "previsores[:,13] = label_previsores.fit_transform(previsores[:,13])\n",
        "previsores"
      ],
      "metadata": {
        "id": "4S3WaJfi9pi9"
      },
      "execution_count": null,
      "outputs": []
    },
    {
      "cell_type": "code",
      "source": [
        "label_classe = LabelEncoder()\n",
        "classe = label_classe.fit_transform(classe)\n",
        "classe"
      ],
      "metadata": {
        "id": "fMMFXGxjOGrc"
      },
      "execution_count": null,
      "outputs": []
    },
    {
      "cell_type": "code",
      "source": [
        "scaler = StandardScaler()\n",
        "previsores = scaler.fit_transform(previsores)\n",
        "previsores"
      ],
      "metadata": {
        "id": "eVwzZMWPOIGN"
      },
      "execution_count": null,
      "outputs": []
    },
    {
      "cell_type": "code",
      "source": [
        "previsores_treinamento, previsores_teste, classe_treinamento, classe_teste = train_test_split(previsores, classe, test_size=0.30, random_state = 0)"
      ],
      "metadata": {
        "id": "Jwn8vIvGOJij"
      },
      "execution_count": null,
      "outputs": []
    },
    {
      "cell_type": "code",
      "source": [
        "classificador = GaussianNB()\n",
        "classificador.fit(previsores_treinamento, classe_treinamento)"
      ],
      "metadata": {
        "id": "w3APbTSdOJnl"
      },
      "execution_count": null,
      "outputs": []
    },
    {
      "cell_type": "code",
      "source": [
        "previsoes = classificador.predict(previsores_teste)\n",
        "previsoes"
      ],
      "metadata": {
        "id": "QR7d7c-6ONkN"
      },
      "execution_count": null,
      "outputs": []
    },
    {
      "cell_type": "code",
      "source": [
        "acuracia = accuracy_score(classe_teste, previsoes)\n",
        "acuracia"
      ],
      "metadata": {
        "id": "WA5vXACtOO_b"
      },
      "execution_count": null,
      "outputs": []
    },
    {
      "cell_type": "code",
      "source": [
        "matriz = confusion_matrix(classe_teste, previsoes)\n",
        "matriz"
      ],
      "metadata": {
        "id": "I_nONLzcOP_7"
      },
      "execution_count": null,
      "outputs": []
    }
  ]
}