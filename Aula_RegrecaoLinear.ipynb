{
  "nbformat": 4,
  "nbformat_minor": 0,
  "metadata": {
    "colab": {
      "provenance": [],
      "include_colab_link": true
    },
    "kernelspec": {
      "name": "python3",
      "display_name": "Python 3"
    },
    "language_info": {
      "name": "python"
    }
  },
  "cells": [
    {
      "cell_type": "markdown",
      "metadata": {
        "id": "view-in-github",
        "colab_type": "text"
      },
      "source": [
        "<a href=\"https://colab.research.google.com/github/ladeiraA/Lab_BigData/blob/main/Aula_RegrecaoLinear.ipynb\" target=\"_parent\"><img src=\"https://colab.research.google.com/assets/colab-badge.svg\" alt=\"Open In Colab\"/></a>"
      ]
    },
    {
      "cell_type": "code",
      "execution_count": null,
      "metadata": {
        "id": "hHaRt4BAwdPC"
      },
      "outputs": [],
      "source": [
        "import numpy as np\n",
        "import pandas as pd\n",
        "import matplotlib.pyplot as plt\n",
        "from sklearn.linear_model import LinearRegression\n",
        "from sklearn.metrics import r2_score\n",
        "import statsmodels.api as sm\n",
        "from sklearn.linear_model import LinearRegression"
      ]
    },
    {
      "cell_type": "code",
      "source": [
        "base = pd.read_csv (\"/content/Advertising.csv\")\n",
        "print(base.describe)\n",
        "base"
      ],
      "metadata": {
        "colab": {
          "base_uri": "https://localhost:8080/",
          "height": 681
        },
        "id": "BmXLzQOyx8ga",
        "outputId": "52e1558b-a478-4c3c-c3a5-9022e75db991"
      },
      "execution_count": null,
      "outputs": [
        {
          "output_type": "stream",
          "name": "stdout",
          "text": [
            "<bound method NDFrame.describe of      Unnamed: 0     TV  radio  newspaper  sales\n",
            "0             1  230.1   37.8       69.2   22.1\n",
            "1             2   44.5   39.3       45.1   10.4\n",
            "2             3   17.2   45.9       69.3    9.3\n",
            "3             4  151.5   41.3       58.5   18.5\n",
            "4             5  180.8   10.8       58.4   12.9\n",
            "..          ...    ...    ...        ...    ...\n",
            "195         196   38.2    3.7       13.8    7.6\n",
            "196         197   94.2    4.9        8.1    9.7\n",
            "197         198  177.0    9.3        6.4   12.8\n",
            "198         199  283.6   42.0       66.2   25.5\n",
            "199         200  232.1    8.6        8.7   13.4\n",
            "\n",
            "[200 rows x 5 columns]>\n"
          ]
        },
        {
          "output_type": "execute_result",
          "data": {
            "text/plain": [
              "     Unnamed: 0     TV  radio  newspaper  sales\n",
              "0             1  230.1   37.8       69.2   22.1\n",
              "1             2   44.5   39.3       45.1   10.4\n",
              "2             3   17.2   45.9       69.3    9.3\n",
              "3             4  151.5   41.3       58.5   18.5\n",
              "4             5  180.8   10.8       58.4   12.9\n",
              "..          ...    ...    ...        ...    ...\n",
              "195         196   38.2    3.7       13.8    7.6\n",
              "196         197   94.2    4.9        8.1    9.7\n",
              "197         198  177.0    9.3        6.4   12.8\n",
              "198         199  283.6   42.0       66.2   25.5\n",
              "199         200  232.1    8.6        8.7   13.4\n",
              "\n",
              "[200 rows x 5 columns]"
            ],
            "text/html": [
              "\n",
              "  <div id=\"df-ab0dab9c-aefd-4f23-858c-818712e4f73c\">\n",
              "    <div class=\"colab-df-container\">\n",
              "      <div>\n",
              "<style scoped>\n",
              "    .dataframe tbody tr th:only-of-type {\n",
              "        vertical-align: middle;\n",
              "    }\n",
              "\n",
              "    .dataframe tbody tr th {\n",
              "        vertical-align: top;\n",
              "    }\n",
              "\n",
              "    .dataframe thead th {\n",
              "        text-align: right;\n",
              "    }\n",
              "</style>\n",
              "<table border=\"1\" class=\"dataframe\">\n",
              "  <thead>\n",
              "    <tr style=\"text-align: right;\">\n",
              "      <th></th>\n",
              "      <th>Unnamed: 0</th>\n",
              "      <th>TV</th>\n",
              "      <th>radio</th>\n",
              "      <th>newspaper</th>\n",
              "      <th>sales</th>\n",
              "    </tr>\n",
              "  </thead>\n",
              "  <tbody>\n",
              "    <tr>\n",
              "      <th>0</th>\n",
              "      <td>1</td>\n",
              "      <td>230.1</td>\n",
              "      <td>37.8</td>\n",
              "      <td>69.2</td>\n",
              "      <td>22.1</td>\n",
              "    </tr>\n",
              "    <tr>\n",
              "      <th>1</th>\n",
              "      <td>2</td>\n",
              "      <td>44.5</td>\n",
              "      <td>39.3</td>\n",
              "      <td>45.1</td>\n",
              "      <td>10.4</td>\n",
              "    </tr>\n",
              "    <tr>\n",
              "      <th>2</th>\n",
              "      <td>3</td>\n",
              "      <td>17.2</td>\n",
              "      <td>45.9</td>\n",
              "      <td>69.3</td>\n",
              "      <td>9.3</td>\n",
              "    </tr>\n",
              "    <tr>\n",
              "      <th>3</th>\n",
              "      <td>4</td>\n",
              "      <td>151.5</td>\n",
              "      <td>41.3</td>\n",
              "      <td>58.5</td>\n",
              "      <td>18.5</td>\n",
              "    </tr>\n",
              "    <tr>\n",
              "      <th>4</th>\n",
              "      <td>5</td>\n",
              "      <td>180.8</td>\n",
              "      <td>10.8</td>\n",
              "      <td>58.4</td>\n",
              "      <td>12.9</td>\n",
              "    </tr>\n",
              "    <tr>\n",
              "      <th>...</th>\n",
              "      <td>...</td>\n",
              "      <td>...</td>\n",
              "      <td>...</td>\n",
              "      <td>...</td>\n",
              "      <td>...</td>\n",
              "    </tr>\n",
              "    <tr>\n",
              "      <th>195</th>\n",
              "      <td>196</td>\n",
              "      <td>38.2</td>\n",
              "      <td>3.7</td>\n",
              "      <td>13.8</td>\n",
              "      <td>7.6</td>\n",
              "    </tr>\n",
              "    <tr>\n",
              "      <th>196</th>\n",
              "      <td>197</td>\n",
              "      <td>94.2</td>\n",
              "      <td>4.9</td>\n",
              "      <td>8.1</td>\n",
              "      <td>9.7</td>\n",
              "    </tr>\n",
              "    <tr>\n",
              "      <th>197</th>\n",
              "      <td>198</td>\n",
              "      <td>177.0</td>\n",
              "      <td>9.3</td>\n",
              "      <td>6.4</td>\n",
              "      <td>12.8</td>\n",
              "    </tr>\n",
              "    <tr>\n",
              "      <th>198</th>\n",
              "      <td>199</td>\n",
              "      <td>283.6</td>\n",
              "      <td>42.0</td>\n",
              "      <td>66.2</td>\n",
              "      <td>25.5</td>\n",
              "    </tr>\n",
              "    <tr>\n",
              "      <th>199</th>\n",
              "      <td>200</td>\n",
              "      <td>232.1</td>\n",
              "      <td>8.6</td>\n",
              "      <td>8.7</td>\n",
              "      <td>13.4</td>\n",
              "    </tr>\n",
              "  </tbody>\n",
              "</table>\n",
              "<p>200 rows × 5 columns</p>\n",
              "</div>\n",
              "      <button class=\"colab-df-convert\" onclick=\"convertToInteractive('df-ab0dab9c-aefd-4f23-858c-818712e4f73c')\"\n",
              "              title=\"Convert this dataframe to an interactive table.\"\n",
              "              style=\"display:none;\">\n",
              "        \n",
              "  <svg xmlns=\"http://www.w3.org/2000/svg\" height=\"24px\"viewBox=\"0 0 24 24\"\n",
              "       width=\"24px\">\n",
              "    <path d=\"M0 0h24v24H0V0z\" fill=\"none\"/>\n",
              "    <path d=\"M18.56 5.44l.94 2.06.94-2.06 2.06-.94-2.06-.94-.94-2.06-.94 2.06-2.06.94zm-11 1L8.5 8.5l.94-2.06 2.06-.94-2.06-.94L8.5 2.5l-.94 2.06-2.06.94zm10 10l.94 2.06.94-2.06 2.06-.94-2.06-.94-.94-2.06-.94 2.06-2.06.94z\"/><path d=\"M17.41 7.96l-1.37-1.37c-.4-.4-.92-.59-1.43-.59-.52 0-1.04.2-1.43.59L10.3 9.45l-7.72 7.72c-.78.78-.78 2.05 0 2.83L4 21.41c.39.39.9.59 1.41.59.51 0 1.02-.2 1.41-.59l7.78-7.78 2.81-2.81c.8-.78.8-2.07 0-2.86zM5.41 20L4 18.59l7.72-7.72 1.47 1.35L5.41 20z\"/>\n",
              "  </svg>\n",
              "      </button>\n",
              "      \n",
              "  <style>\n",
              "    .colab-df-container {\n",
              "      display:flex;\n",
              "      flex-wrap:wrap;\n",
              "      gap: 12px;\n",
              "    }\n",
              "\n",
              "    .colab-df-convert {\n",
              "      background-color: #E8F0FE;\n",
              "      border: none;\n",
              "      border-radius: 50%;\n",
              "      cursor: pointer;\n",
              "      display: none;\n",
              "      fill: #1967D2;\n",
              "      height: 32px;\n",
              "      padding: 0 0 0 0;\n",
              "      width: 32px;\n",
              "    }\n",
              "\n",
              "    .colab-df-convert:hover {\n",
              "      background-color: #E2EBFA;\n",
              "      box-shadow: 0px 1px 2px rgba(60, 64, 67, 0.3), 0px 1px 3px 1px rgba(60, 64, 67, 0.15);\n",
              "      fill: #174EA6;\n",
              "    }\n",
              "\n",
              "    [theme=dark] .colab-df-convert {\n",
              "      background-color: #3B4455;\n",
              "      fill: #D2E3FC;\n",
              "    }\n",
              "\n",
              "    [theme=dark] .colab-df-convert:hover {\n",
              "      background-color: #434B5C;\n",
              "      box-shadow: 0px 1px 3px 1px rgba(0, 0, 0, 0.15);\n",
              "      filter: drop-shadow(0px 1px 2px rgba(0, 0, 0, 0.3));\n",
              "      fill: #FFFFFF;\n",
              "    }\n",
              "  </style>\n",
              "\n",
              "      <script>\n",
              "        const buttonEl =\n",
              "          document.querySelector('#df-ab0dab9c-aefd-4f23-858c-818712e4f73c button.colab-df-convert');\n",
              "        buttonEl.style.display =\n",
              "          google.colab.kernel.accessAllowed ? 'block' : 'none';\n",
              "\n",
              "        async function convertToInteractive(key) {\n",
              "          const element = document.querySelector('#df-ab0dab9c-aefd-4f23-858c-818712e4f73c');\n",
              "          const dataTable =\n",
              "            await google.colab.kernel.invokeFunction('convertToInteractive',\n",
              "                                                     [key], {});\n",
              "          if (!dataTable) return;\n",
              "\n",
              "          const docLinkHtml = 'Like what you see? Visit the ' +\n",
              "            '<a target=\"_blank\" href=https://colab.research.google.com/notebooks/data_table.ipynb>data table notebook</a>'\n",
              "            + ' to learn more about interactive tables.';\n",
              "          element.innerHTML = '';\n",
              "          dataTable['output_type'] = 'display_data';\n",
              "          await google.colab.output.renderOutput(dataTable, element);\n",
              "          const docLink = document.createElement('div');\n",
              "          docLink.innerHTML = docLinkHtml;\n",
              "          element.appendChild(docLink);\n",
              "        }\n",
              "      </script>\n",
              "    </div>\n",
              "  </div>\n",
              "  "
            ]
          },
          "metadata": {},
          "execution_count": 4
        }
      ]
    },
    {
      "cell_type": "code",
      "source": [
        "plt.figure(figsize = (16,8))\n",
        "plt.scatter(\n",
        "    base['TV'],\n",
        "    base['sales'],\n",
        "    c = 'red')\n",
        "plt.xlabel(\" ($) Gasto em propaganda de TV\")\n",
        "plt.ylabel(\" ($) Vendas\")\n",
        "plt.show()"
      ],
      "metadata": {
        "colab": {
          "base_uri": "https://localhost:8080/",
          "height": 497
        },
        "id": "MQ_aJVl7zHbh",
        "outputId": "0029cc3b-c31c-44c1-f51d-bb593854a1a0"
      },
      "execution_count": null,
      "outputs": [
        {
          "output_type": "display_data",
          "data": {
            "text/plain": [
              "<Figure size 1152x576 with 1 Axes>"
            ],
            "image/png": "[encoded data removed]"
          },
          "metadata": {
            "needs_background": "light"
          }
        }
      ]
    },
    {
      "cell_type": "code",
      "source": [
        "x = base['TV'].values.reshape(-1,1)\n",
        "y = base['sales'].values.reshape(-1,1)\n",
        "\n",
        "reg = LinearRegression()\n",
        "reg.fit(x,y)\n",
        "print(\"O modelo é Vendas = {:.5} + {:.5}x \".format(reg.intercept_[0], reg.coef_[0][0]))"
      ],
      "metadata": {
        "colab": {
          "base_uri": "https://localhost:8080/"
        },
        "id": "lUt-tL4R0Omu",
        "outputId": "cbcd23a4-e547-4977-aab5-e4cffdebd344"
      },
      "execution_count": null,
      "outputs": [
        {
          "output_type": "stream",
          "name": "stdout",
          "text": [
            "O modelo é Vendas = 7.0326 + 0.047537x \n"
          ]
        }
      ]
    },
    {
      "cell_type": "code",
      "source": [
        "f_previsoes = reg.predict(x)\n",
        "\n",
        "plt.figure(figsize = (16,8))\n",
        "plt.scatter(\n",
        "    base['TV'],\n",
        "    base['sales'],\n",
        "    c = 'red')\n",
        "plt.plot(\n",
        "    base['TV'],\n",
        "    f_previsoes,\n",
        "    c='blue',\n",
        "    linewidth=3,\n",
        "    linestyle =':'\n",
        ")\n",
        "plt.xlabel(\" ($) Gasto em propaganda de TV\")\n",
        "plt.ylabel(\" ($) Vendas\")\n",
        "plt.show()"
      ],
      "metadata": {
        "colab": {
          "base_uri": "https://localhost:8080/",
          "height": 497
        },
        "id": "gKvXSChO1TbS",
        "outputId": "81b52a39-d949-477e-9bd8-7acfdf181666"
      },
      "execution_count": null,
      "outputs": [
        {
          "output_type": "display_data",
          "data": {
            "text/plain": [
              "<Figure size 1152x576 with 1 Axes>"
            ],
            "image/png": "[encoded data removed]"
          },
          "metadata": {
            "needs_background": "light"
          }
        }
      ]
    },
    {
      "cell_type": "code",
      "source": [
        "x = base['TV']\n",
        "y = base['sales']\n",
        "x2 = sm.add_constant(x)\n",
        "est = sm.OLS(y, x2)\n",
        "est2 = est.fit()\n",
        "print(est2.summary())"
      ],
      "metadata": {
        "colab": {
          "base_uri": "https://localhost:8080/"
        },
        "id": "yR3MVtdJ2Frg",
        "outputId": "a618e5fe-0c18-4fdc-916b-d25d92c00134"
      },
      "execution_count": null,
      "outputs": [
        {
          "output_type": "stream",
          "name": "stdout",
          "text": [
            "                            OLS Regression Results                            \n",
            "==============================================================================\n",
            "Dep. Variable:                  sales   R-squared:                       0.612\n",
            "Model:                            OLS   Adj. R-squared:                  0.610\n",
            "Method:                 Least Squares   F-statistic:                     312.1\n",
            "Date:                Wed, 31 Aug 2022   Prob (F-statistic):           1.47e-42\n",
            "Time:                        17:35:12   Log-Likelihood:                -519.05\n",
            "No. Observations:                 200   AIC:                             1042.\n",
            "Df Residuals:                     198   BIC:                             1049.\n",
            "Df Model:                           1                                         \n",
            "Covariance Type:            nonrobust                                         \n",
            "==============================================================================\n",
            "                 coef    std err          t      P>|t|      [0.025      0.975]\n",
            "------------------------------------------------------------------------------\n",
            "const          7.0326      0.458     15.360      0.000       6.130       7.935\n",
            "TV             0.0475      0.003     17.668      0.000       0.042       0.053\n",
            "==============================================================================\n",
            "Omnibus:                        0.531   Durbin-Watson:                   1.935\n",
            "Prob(Omnibus):                  0.767   Jarque-Bera (JB):                0.669\n",
            "Skew:                          -0.089   Prob(JB):                        0.716\n",
            "Kurtosis:                       2.779   Cond. No.                         338.\n",
            "==============================================================================\n",
            "\n",
            "Notes:\n",
            "[1] Standard Errors assume that the covariance matrix of the errors is correctly specified.\n"
          ]
        },
        {
          "output_type": "stream",
          "name": "stderr",
          "text": [
            "/usr/local/lib/python3.7/dist-packages/statsmodels/tsa/tsatools.py:142: FutureWarning: In a future version of pandas all arguments of concat except for the argument 'objs' will be keyword-only\n",
            "  x = pd.concat(x[::order], 1)\n"
          ]
        }
      ]
    },
    {
      "cell_type": "code",
      "source": [
        "xs = base.drop(['sales', 'Unnamed: 0'], axis =1)\n",
        "y = base['sales'].values.reshape(-1,1)\n",
        "rl = LinearRegression()\n",
        "rl.fit(xs, y)\n",
        "\n",
        "print(\"O modelo é: Vendas = {:.5} + {:.5}*radio + {:.5}*newpaper\".format(rl.intercept_[0], rl.coef_[0][0], rl.coef_[0][2]))\n"
      ],
      "metadata": {
        "colab": {
          "base_uri": "https://localhost:8080/"
        },
        "id": "yEmO3S8E2wwx",
        "outputId": "237ac389-9556-4bb2-a581-7bf2fce8a582"
      },
      "execution_count": null,
      "outputs": [
        {
          "output_type": "stream",
          "name": "stdout",
          "text": [
            "O modelo é: Vendas = 2.9389 + 0.045765*radio + -0.0010375*newpaper\n"
          ]
        }
      ]
    },
    {
      "cell_type": "code",
      "source": [
        "x =np.column_stack((base['TV'], base['radio'], base['newspaper']))\n",
        "y= base['sales']\n",
        "\n",
        "x2 = sm.add_constant(x)\n",
        "est = sm.OLS(y,x2)\n",
        "est2 = est.fit()\n",
        "\n",
        "print(est2.summary())"
      ],
      "metadata": {
        "colab": {
          "base_uri": "https://localhost:8080/"
        },
        "id": "8QcE4NvH4lbH",
        "outputId": "614a7f95-24c4-422c-d092-7c47c7c4fa37"
      },
      "execution_count": null,
      "outputs": [
        {
          "output_type": "stream",
          "name": "stdout",
          "text": [
            "                            OLS Regression Results                            \n",
            "==============================================================================\n",
            "Dep. Variable:                  sales   R-squared:                       0.897\n",
            "Model:                            OLS   Adj. R-squared:                  0.896\n",
            "Method:                 Least Squares   F-statistic:                     570.3\n",
            "Date:                Wed, 31 Aug 2022   Prob (F-statistic):           1.58e-96\n",
            "Time:                        17:35:13   Log-Likelihood:                -386.18\n",
            "No. Observations:                 200   AIC:                             780.4\n",
            "Df Residuals:                     196   BIC:                             793.6\n",
            "Df Model:                           3                                         \n",
            "Covariance Type:            nonrobust                                         \n",
            "==============================================================================\n",
            "                 coef    std err          t      P>|t|      [0.025      0.975]\n",
            "------------------------------------------------------------------------------\n",
            "const          2.9389      0.312      9.422      0.000       2.324       3.554\n",
            "x1             0.0458      0.001     32.809      0.000       0.043       0.049\n",
            "x2             0.1885      0.009     21.893      0.000       0.172       0.206\n",
            "x3            -0.0010      0.006     -0.177      0.860      -0.013       0.011\n",
            "==============================================================================\n",
            "Omnibus:                       60.414   Durbin-Watson:                   2.084\n",
            "Prob(Omnibus):                  0.000   Jarque-Bera (JB):              151.241\n",
            "Skew:                          -1.327   Prob(JB):                     1.44e-33\n",
            "Kurtosis:                       6.332   Cond. No.                         454.\n",
            "==============================================================================\n",
            "\n",
            "Notes:\n",
            "[1] Standard Errors assume that the covariance matrix of the errors is correctly specified.\n"
          ]
        }
      ]
    }
  ]
}