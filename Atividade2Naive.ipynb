{
  "nbformat": 4,
  "nbformat_minor": 0,
  "metadata": {
    "colab": {
      "name": "Atividade2Naive",
      "provenance": [],
      "collapsed_sections": [],
      "authorship_tag": "ABX9TyM0j5o6qieOkIWIbaAM6rQe",
      "include_colab_link": true
    },
    "kernelspec": {
      "name": "python3",
      "display_name": "Python 3"
    },
    "language_info": {
      "name": "python"
    }
  },
  "cells": [
    {
      "cell_type": "markdown",
      "metadata": {
        "id": "view-in-github",
        "colab_type": "text"
      },
      "source": [
        "<a href=\"https://colab.research.google.com/github/ladeiraA/Lab_BigData/blob/main/Atividade2Naive.ipynb\" target=\"_parent\"><img src=\"https://colab.research.google.com/assets/colab-badge.svg\" alt=\"Open In Colab\"/></a>"
      ]
    },
    {
      "cell_type": "code",
      "execution_count": 124,
      "metadata": {
        "id": "s2kNOpJg8rIR"
      },
      "outputs": [],
      "source": [
        "import pandas as pd\n",
        "import sklearn as sk\n",
        "#base = arquivo\n",
        "base = pd.read_csv(\"credit-data.csv\")"
      ]
    },
    {
      "cell_type": "code",
      "source": [
        "#Ve valores negativos\n",
        "baseA = base.loc[(base['age']) < 0]\n",
        "baseA"
      ],
      "metadata": {
        "id": "qyyiaILqUN-w"
      },
      "execution_count": null,
      "outputs": []
    },
    {
      "cell_type": "code",
      "source": [
        "#Media\n",
        "media = base.loc[:,'age'].mean()\n",
        "media"
      ],
      "metadata": {
        "id": "Rxty_fixUX9_"
      },
      "execution_count": null,
      "outputs": []
    },
    {
      "cell_type": "code",
      "source": [
        "#Transforma valores negativos na media do age\n",
        "base.loc[base.age < 0,'age'] = media"
      ],
      "metadata": {
        "id": "mSMHVpQJOi3h"
      },
      "execution_count": 122,
      "outputs": []
    },
    {
      "cell_type": "code",
      "source": [
        "base[15:27]"
      ],
      "metadata": {
        "id": "bgj9cFCjWbZQ"
      },
      "execution_count": null,
      "outputs": []
    },
    {
      "cell_type": "code",
      "source": [
        "skmedia = sk.S"
      ],
      "metadata": {
        "id": "1hh1q9LabFoX"
      },
      "execution_count": null,
      "outputs": []
    }
  ]
}